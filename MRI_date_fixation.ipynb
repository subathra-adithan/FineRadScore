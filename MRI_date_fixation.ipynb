{
  "cells": [
    {
      "cell_type": "markdown",
      "metadata": {
        "id": "view-in-github",
        "colab_type": "text"
      },
      "source": [
        "<a href=\"https://colab.research.google.com/github/subathra-adithan/FineRadScore/blob/main/MRI_date_fixation.ipynb\" target=\"_parent\"><img src=\"https://colab.research.google.com/assets/colab-badge.svg\" alt=\"Open In Colab\"/></a>"
      ]
    },
    {
      "cell_type": "markdown",
      "metadata": {
        "id": "t-tjdbvijM0U"
      },
      "source": [
        "If you are asking another radiology resident to do it,\n",
        "1. share access to the code\n",
        "2. share access to the date folder\n",
        "3. share protect range access in the two worklists\n",
        "4. remind them to create a shortcut to date in their MyDrive\n",
        "\n",
        "\n",
        "Download from LIS, name the file lisdate. No special characters in the name. Save as xlsx file. **Open the file, make sure column Q shows todays date.** Close the file and drop it under \"date\"\n",
        "***Ignore above if you ran the CT_date fixation before this.***\n",
        "\n",
        "In this code, you must edit the file name in FOUR places. Change the names first and then run the code.\n",
        "\n",
        "1. ris sheet\n",
        "2. lis sheet\n",
        "3. merged csv file\n",
        "4. For radiology office output file\n",
        "\n",
        "# **Run the code ONLY AFTER you finish above.**\n",
        "After you finish all work, push all the files in date folder into \"old\" subfolder"
      ]
    },
    {
      "cell_type": "code",
      "execution_count": 88,
      "metadata": {
        "colab": {
          "base_uri": "https://localhost:8080/"
        },
        "id": "mQr6WfGUCCGV",
        "outputId": "4d27c2da-e6c9-4057-f7b9-25830b8b050f"
      },
      "outputs": [
        {
          "output_type": "stream",
          "name": "stdout",
          "text": [
            "Drive already mounted at /content/drive; to attempt to forcibly remount, call drive.mount(\"/content/drive\", force_remount=True).\n"
          ]
        }
      ],
      "source": [
        "from google.colab import drive\n",
        "drive.mount('/content/drive')"
      ]
    },
    {
      "cell_type": "code",
      "execution_count": 89,
      "metadata": {
        "colab": {
          "base_uri": "https://localhost:8080/"
        },
        "id": "FH4B2eFf5Mkm",
        "outputId": "1f5e847d-9bb8-42da-cd7f-648ce5bc99d5"
      },
      "outputs": [
        {
          "output_type": "stream",
          "name": "stdout",
          "text": [
            "Requirement already satisfied: xlsxwriter in /usr/local/lib/python3.11/dist-packages (3.2.5)\n"
          ]
        }
      ],
      "source": [
        "import pandas as pd\n",
        "import datetime\n",
        "!pip install xlsxwriter"
      ]
    },
    {
      "cell_type": "code",
      "execution_count": 90,
      "metadata": {
        "id": "ScWE6DlWHst9",
        "colab": {
          "base_uri": "https://localhost:8080/"
        },
        "outputId": "98c18ce8-7979-4499-dc7c-ba30f54614e6"
      },
      "outputs": [
        {
          "output_type": "stream",
          "name": "stdout",
          "text": [
            "'Common mistakes in CT and MRI Worklist preparation.xlsx'\n",
            "'CT_date fixation.ipynb'\n",
            " CT_merged05.csv\n",
            " CT_Worklist.gsheet\n",
            " fixed\n",
            " for_office\n",
            " lis05.xlsx\n",
            "'MRI_date fixation.ipynb'\n",
            " MRI_merged05.csv\n",
            " MRI_Worklist.gsheet\n",
            " old\n"
          ]
        }
      ],
      "source": [
        "#If you are doing for the first time, make a short cut to RD folder in your MyDrive\n",
        "!ls '/content/drive/MyDrive/date'"
      ]
    },
    {
      "cell_type": "markdown",
      "metadata": {
        "id": "NSR_4spxjXMP"
      },
      "source": [
        "# **1.**"
      ]
    },
    {
      "cell_type": "code",
      "execution_count": 91,
      "metadata": {
        "id": "o9BCQYweptuN"
      },
      "outputs": [],
      "source": [
        "#CHANGE file_path HERE\n",
        "file_path = '/content/drive/MyDrive/date/fixed/05July_05November.xlsx'\n",
        "df = pd.read_excel(file_path)\n",
        "#df = pd.read_csv(file_path)"
      ]
    },
    {
      "cell_type": "code",
      "execution_count": 92,
      "metadata": {
        "id": "FBpH870V-BJE"
      },
      "outputs": [],
      "source": [
        "df['DATE_FIXED'] = pd.to_datetime(df['PROC_SCHEDULE_START_DATE']).dt.date\n",
        "df['TIME'] = pd.to_datetime(df['PROC_SCHEDULE_START_DATE']).dt.time"
      ]
    },
    {
      "cell_type": "code",
      "execution_count": 93,
      "metadata": {
        "id": "mL3mOEJYBY86"
      },
      "outputs": [],
      "source": [
        "df_ris = df[['DATE_FIXED','PAT_LAST_NAME', 'PAT_FIRST_NAME', 'PATIENT_ID','PROC_NAME', 'MODALITY', 'ACCESSION_NO','WORKPLACE','APP_CREATE_DATE']]"
      ]
    },
    {
      "cell_type": "code",
      "execution_count": 94,
      "metadata": {
        "id": "elf3x0pL6atk"
      },
      "outputs": [],
      "source": [
        "df_ris_MRI = df_ris[df_ris['MODALITY'] == 'MR']"
      ]
    },
    {
      "cell_type": "code",
      "execution_count": 95,
      "metadata": {
        "id": "rNsq25gO8PZT",
        "colab": {
          "base_uri": "https://localhost:8080/"
        },
        "outputId": "20e77828-2055-4e82-cd0a-20a010b9abe5"
      },
      "outputs": [
        {
          "output_type": "execute_result",
          "data": {
            "text/plain": [
              "2107"
            ]
          },
          "metadata": {},
          "execution_count": 95
        }
      ],
      "source": [
        "len(df_ris_MRI)"
      ]
    },
    {
      "cell_type": "markdown",
      "metadata": {
        "id": "mavWkD_1ObJP"
      },
      "source": [
        "RIS alone is ready. The following steps are to merge LIS and RIS"
      ]
    },
    {
      "cell_type": "markdown",
      "metadata": {
        "id": "8hLze8DujacK"
      },
      "source": [
        "# **2.**"
      ]
    },
    {
      "cell_type": "code",
      "execution_count": 96,
      "metadata": {
        "id": "Ztylprwv-HQY"
      },
      "outputs": [],
      "source": [
        "# Make sure you have lis.xlsx under date\n",
        "file_path = '/content/drive/MyDrive/date/lis05.xlsx'\n",
        "df_lis = pd.read_excel(file_path)"
      ]
    },
    {
      "cell_type": "code",
      "execution_count": 97,
      "metadata": {
        "id": "mlPmuzanAmp7"
      },
      "outputs": [],
      "source": [
        "df_lis_MRI = df_lis[df_lis['Investigation'].str.contains('MR')]"
      ]
    },
    {
      "cell_type": "code",
      "execution_count": 99,
      "metadata": {
        "id": "qrc2-rsU_WPj",
        "colab": {
          "base_uri": "https://localhost:8080/"
        },
        "outputId": "e80fbd97-7565-421a-d986-1308f50e3bc5"
      },
      "outputs": [
        {
          "output_type": "stream",
          "name": "stderr",
          "text": [
            "/tmp/ipython-input-99-1533870343.py:1: SettingWithCopyWarning: \n",
            "A value is trying to be set on a copy of a slice from a DataFrame\n",
            "\n",
            "See the caveats in the documentation: https://pandas.pydata.org/pandas-docs/stable/user_guide/indexing.html#returning-a-view-versus-a-copy\n",
            "  df_lis_MRI.rename(columns={'ScheduledDate': 'LIS_DATE'}, inplace=True)\n"
          ]
        }
      ],
      "source": [
        "df_lis_MRI.rename(columns={'ScheduledDate': 'LIS_DATE'}, inplace=True)"
      ]
    },
    {
      "cell_type": "code",
      "execution_count": 100,
      "metadata": {
        "id": "rWYf3AYW-3CR",
        "colab": {
          "base_uri": "https://localhost:8080/"
        },
        "outputId": "694c00d1-d646-4a9c-fcc4-a30ccad00986"
      },
      "outputs": [
        {
          "output_type": "stream",
          "name": "stderr",
          "text": [
            "/tmp/ipython-input-100-662468641.py:1: SettingWithCopyWarning: \n",
            "A value is trying to be set on a copy of a slice from a DataFrame\n",
            "\n",
            "See the caveats in the documentation: https://pandas.pydata.org/pandas-docs/stable/user_guide/indexing.html#returning-a-view-versus-a-copy\n",
            "  df_lis_MRI.drop(columns=[\"Unnamed: 0\"], inplace=True)\n",
            "/tmp/ipython-input-100-662468641.py:2: SettingWithCopyWarning: \n",
            "A value is trying to be set on a copy of a slice from a DataFrame\n",
            "\n",
            "See the caveats in the documentation: https://pandas.pydata.org/pandas-docs/stable/user_guide/indexing.html#returning-a-view-versus-a-copy\n",
            "  df_lis_MRI.rename(columns={'HospitalNo': 'PATIENT_ID'}, inplace=True)\n",
            "/tmp/ipython-input-100-662468641.py:3: SettingWithCopyWarning: \n",
            "A value is trying to be set on a copy of a slice from a DataFrame\n",
            "\n",
            "See the caveats in the documentation: https://pandas.pydata.org/pandas-docs/stable/user_guide/indexing.html#returning-a-view-versus-a-copy\n",
            "  df_lis_MRI.drop(columns=['Ward', 'Bed Type', 'Bed No.'], inplace=True)\n"
          ]
        }
      ],
      "source": [
        "df_lis_MRI.drop(columns=[\"Unnamed: 0\"], inplace=True)\n",
        "df_lis_MRI.rename(columns={'HospitalNo': 'PATIENT_ID'}, inplace=True)\n",
        "df_lis_MRI.drop(columns=['Ward', 'Bed Type', 'Bed No.'], inplace=True)"
      ]
    },
    {
      "cell_type": "code",
      "execution_count": 101,
      "metadata": {
        "id": "oxeqkOpwP21S",
        "colab": {
          "base_uri": "https://localhost:8080/"
        },
        "outputId": "6b0e33bb-ce8d-4f32-c95b-2e39e50614d5"
      },
      "outputs": [
        {
          "output_type": "execute_result",
          "data": {
            "text/plain": [
              "14"
            ]
          },
          "metadata": {},
          "execution_count": 101
        }
      ],
      "source": [
        "len(df_lis_MRI)"
      ]
    },
    {
      "cell_type": "code",
      "execution_count": 102,
      "metadata": {
        "id": "Yi3Nn3U3BpA5"
      },
      "outputs": [],
      "source": [
        "merged_df = pd.merge(df_ris_MRI, df_lis_MRI, on='PATIENT_ID', how='outer', indicator=True)"
      ]
    },
    {
      "cell_type": "code",
      "execution_count": 103,
      "metadata": {
        "id": "8ECqOzqcEh2t"
      },
      "outputs": [],
      "source": [
        "merged_df.rename(columns={\"_merge\": \"LIS_or_RIS\"}, inplace=True)"
      ]
    },
    {
      "cell_type": "code",
      "execution_count": 104,
      "metadata": {
        "id": "xbuv0hGIF9Oe",
        "colab": {
          "base_uri": "https://localhost:8080/"
        },
        "outputId": "02b31384-8bad-4bcc-b3ae-f54e1aca5092"
      },
      "outputs": [
        {
          "output_type": "stream",
          "name": "stderr",
          "text": [
            "/tmp/ipython-input-104-1535282306.py:1: FutureWarning: The behavior of Series.replace (and DataFrame.replace) with CategoricalDtype is deprecated. In a future version, replace will only be used for cases that preserve the categories. To change the categories, use ser.cat.rename_categories instead.\n",
            "  merged_df['LIS_or_RIS'] = merged_df['LIS_or_RIS'].replace('left_only', 'RIS')\n",
            "/tmp/ipython-input-104-1535282306.py:2: FutureWarning: The behavior of Series.replace (and DataFrame.replace) with CategoricalDtype is deprecated. In a future version, replace will only be used for cases that preserve the categories. To change the categories, use ser.cat.rename_categories instead.\n",
            "  merged_df['LIS_or_RIS'] = merged_df['LIS_or_RIS'].replace('right_only', 'LIS')\n"
          ]
        }
      ],
      "source": [
        "merged_df['LIS_or_RIS'] = merged_df['LIS_or_RIS'].replace('left_only', 'RIS')\n",
        "merged_df['LIS_or_RIS'] = merged_df['LIS_or_RIS'].replace('right_only', 'LIS')"
      ]
    },
    {
      "cell_type": "markdown",
      "metadata": {
        "id": "MgpHv4FbwyOx"
      },
      "source": []
    },
    {
      "cell_type": "markdown",
      "metadata": {
        "id": "_TWpUjQIjgJz"
      },
      "source": [
        "# **3.**"
      ]
    },
    {
      "cell_type": "code",
      "execution_count": 105,
      "metadata": {
        "id": "zIvNQ9nWvFQG"
      },
      "outputs": [],
      "source": [
        "#Change file name with date of month\n",
        "merged_df.to_csv('/content/drive/MyDrive/date/MRI_merged05.csv',index=False)"
      ]
    },
    {
      "cell_type": "markdown",
      "metadata": {
        "id": "frKDmuTixg3n"
      },
      "source": [
        "**After you run this, you will find \"MRI_mergedDate.csv\" in RD folder. Open \"worklist\" and delete its contents.**\n",
        "*Open \"MRI_mergedDate.csv\" with google sheets, Control A, Control C and Control V to worklist \"scheduled\" Change the dates in the three CT subfolders.\n",
        "*\n",
        "Protect the scheduled subsheet\n"
      ]
    },
    {
      "cell_type": "markdown",
      "source": [],
      "metadata": {
        "id": "oVtV50w6Imyc"
      }
    },
    {
      "cell_type": "code",
      "execution_count": 106,
      "metadata": {
        "id": "YyjCo4faQhqe"
      },
      "outputs": [],
      "source": [
        "merged_df['DATE_FIXED'] = pd.to_datetime(merged_df['DATE_FIXED']).dt.strftime('%d/%m/%Y')\n",
        "merged_df['LIS_DATE'] = pd.to_datetime(merged_df['LIS_DATE']).dt.strftime('%d/%m/%Y')"
      ]
    },
    {
      "cell_type": "code",
      "execution_count": 107,
      "metadata": {
        "id": "Kp3k16i78WKm",
        "colab": {
          "base_uri": "https://localhost:8080/"
        },
        "outputId": "1dd6fec8-7293-4926-c2ca-09a5e7bb5cc8"
      },
      "outputs": [
        {
          "output_type": "execute_result",
          "data": {
            "text/plain": [
              "2108"
            ]
          },
          "metadata": {},
          "execution_count": 107
        }
      ],
      "source": [
        "len(merged_df)"
      ]
    },
    {
      "cell_type": "markdown",
      "metadata": {
        "id": "_xaVDsnYROak"
      },
      "source": [
        "LIS RIS DISCREPANCY"
      ]
    },
    {
      "cell_type": "code",
      "execution_count": 108,
      "metadata": {
        "id": "gMr5YxZUVorh",
        "colab": {
          "base_uri": "https://localhost:8080/"
        },
        "outputId": "529be66e-6086-4f21-c855-dfeb5a4b1d29"
      },
      "outputs": [
        {
          "output_type": "stream",
          "name": "stdout",
          "text": [
            "5\n"
          ]
        }
      ],
      "source": [
        "df_diff_dates = merged_df[merged_df['LIS_DATE'].notna()]\n",
        "df_diff_dates = df_diff_dates[df_diff_dates['LIS_DATE'] != df_diff_dates['DATE_FIXED']]\n",
        "print(len(df_diff_dates))\n",
        "#so both will be present if they have different dates in LIS and RIS, usually when it was fixed more than once or on more than one day."
      ]
    },
    {
      "cell_type": "code",
      "source": [
        "df_diff_dates['message'] = 'discrepancy'"
      ],
      "metadata": {
        "id": "XsdwzCyRQYya"
      },
      "execution_count": 109,
      "outputs": []
    },
    {
      "cell_type": "code",
      "source": [
        "merged_df['ScheduledByName'] = merged_df['ScheduledByName'].str[:12]"
      ],
      "metadata": {
        "id": "9LrFS5SwUbgk"
      },
      "execution_count": 110,
      "outputs": []
    },
    {
      "cell_type": "code",
      "execution_count": 111,
      "metadata": {
        "id": "ZSel_AHvf3Mw"
      },
      "outputs": [],
      "source": [
        "diff = df_diff_dates[['message','DATE_FIXED', 'LIS_DATE', 'WORKPLACE', 'PATIENT_ID', 'PatientName', 'IPD/OPD', 'LIS_or_RIS','PROC_NAME','ScheduledByName', 'PAT_LAST_NAME', 'PAT_FIRST_NAME', 'Clinical Indication','RequestId', 'PatientMobileNo','APP_CREATE_DATE']]"
      ]
    },
    {
      "cell_type": "markdown",
      "source": [
        "len(diff)"
      ],
      "metadata": {
        "id": "6oqWpbPVXbly"
      }
    },
    {
      "cell_type": "markdown",
      "source": [],
      "metadata": {
        "id": "IjbDoZ8tdFTX"
      }
    },
    {
      "cell_type": "markdown",
      "metadata": {
        "id": "2_VV4eKiSVhd"
      },
      "source": [
        "FOR RADIOLOGY OFFICE"
      ]
    },
    {
      "cell_type": "code",
      "execution_count": 29,
      "metadata": {
        "id": "YNJpBLYOEcZ6"
      },
      "outputs": [],
      "source": [
        "today = datetime.date.today().strftime('%d/%m/%Y')"
      ]
    },
    {
      "cell_type": "code",
      "execution_count": 112,
      "metadata": {
        "id": "ils-O86KI7EM",
        "colab": {
          "base_uri": "https://localhost:8080/"
        },
        "outputId": "d6d36012-5b47-44e3-afdd-2d82383bc530"
      },
      "outputs": [
        {
          "output_type": "stream",
          "name": "stdout",
          "text": [
            "05/07/2025\n"
          ]
        }
      ],
      "source": [
        "print(today)"
      ]
    },
    {
      "cell_type": "code",
      "source": [
        "'''\n",
        "import datetime\n",
        "\n",
        "yesterday = (datetime.date.today() - datetime.timedelta(days=1)).strftime('%d/%m/%Y')\n",
        "print(yesterday)\n",
        "'''"
      ],
      "metadata": {
        "colab": {
          "base_uri": "https://localhost:8080/"
        },
        "id": "63VSQIJ8L9Da",
        "outputId": "55118e58-33fa-4ce5-fcba-d5ad65d03517"
      },
      "execution_count": 31,
      "outputs": [
        {
          "output_type": "stream",
          "name": "stdout",
          "text": [
            "05/07/2025\n"
          ]
        }
      ]
    },
    {
      "cell_type": "code",
      "execution_count": 25,
      "metadata": {
        "id": "WbnoI9ssSDBR"
      },
      "outputs": [],
      "source": [
        "#merged_df['STATUS'] = ''\n",
        "#merged_df['FOR_CONSULTANT'] = ''"
      ]
    },
    {
      "cell_type": "code",
      "execution_count": 113,
      "metadata": {
        "id": "FLzT5BCMCoR3"
      },
      "outputs": [],
      "source": [
        "merged_df['Clinical Indication'] = merged_df['Clinical Indication'].str[:15]"
      ]
    },
    {
      "cell_type": "code",
      "execution_count": 35,
      "metadata": {
        "id": "00mhKAEkGMhT",
        "colab": {
          "base_uri": "https://localhost:8080/",
          "height": 125
        },
        "outputId": "f24842af-7deb-488a-a499-49ec577822b0"
      },
      "outputs": [
        {
          "output_type": "execute_result",
          "data": {
            "text/plain": [
              "\"\\ndf_SSB_MRI = merged_df[(merged_df['DATE_FIXED'] == today) & (merged_df['WORKPLACE'] == 'MR1-SSB')][['DATE_FIXED','LIS_DATE','PROC_NAME', 'PATIENT_ID', 'PAT_LAST_NAME', 'PAT_FIRST_NAME', 'STATUS', 'IPD/OPD','Clinical Indication','FOR_CONSULTANT']]\\ndf_Main_MRI = merged_df[(merged_df['DATE_FIXED'] == today) & (merged_df['WORKPLACE'] == 'MR2-MB')][['DATE_FIXED','LIS_DATE','PROC_NAME', 'PATIENT_ID', 'PAT_LAST_NAME', 'PAT_FIRST_NAME', 'STATUS','IPD/OPD','Clinical Indication','FOR_CONSULTANT']]\\ndf_3T_MRI = merged_df[(merged_df['DATE_FIXED'] == today) & (merged_df['WORKPLACE'] == 'MR3-SSBEXP')][['DATE_FIXED','LIS_DATE','PROC_NAME', 'PATIENT_ID', 'PAT_LAST_NAME', 'PAT_FIRST_NAME', 'STATUS','IPD/OPD','Clinical Indication','FOR_CONSULTANT']]\\n\""
            ],
            "application/vnd.google.colaboratory.intrinsic+json": {
              "type": "string"
            }
          },
          "metadata": {},
          "execution_count": 35
        }
      ],
      "source": [
        "'''\n",
        "df_SSB_MRI = merged_df[(merged_df['DATE_FIXED'] == today) & (merged_df['WORKPLACE'] == 'MR1-SSB')][['DATE_FIXED','LIS_DATE','PROC_NAME', 'PATIENT_ID', 'PAT_LAST_NAME', 'PAT_FIRST_NAME', 'STATUS', 'IPD/OPD','Clinical Indication','FOR_CONSULTANT']]\n",
        "df_Main_MRI = merged_df[(merged_df['DATE_FIXED'] == today) & (merged_df['WORKPLACE'] == 'MR2-MB')][['DATE_FIXED','LIS_DATE','PROC_NAME', 'PATIENT_ID', 'PAT_LAST_NAME', 'PAT_FIRST_NAME', 'STATUS','IPD/OPD','Clinical Indication','FOR_CONSULTANT']]\n",
        "df_3T_MRI = merged_df[(merged_df['DATE_FIXED'] == today) & (merged_df['WORKPLACE'] == 'MR3-SSBEXP')][['DATE_FIXED','LIS_DATE','PROC_NAME', 'PATIENT_ID', 'PAT_LAST_NAME', 'PAT_FIRST_NAME', 'STATUS','IPD/OPD','Clinical Indication','FOR_CONSULTANT']]\n",
        "'''"
      ]
    },
    {
      "cell_type": "code",
      "source": [
        "merged_df['ScheduledByName'] = merged_df['ScheduledByName'].str[:12]"
      ],
      "metadata": {
        "id": "GLJxR0a6S8mo"
      },
      "execution_count": 114,
      "outputs": []
    },
    {
      "cell_type": "code",
      "execution_count": 115,
      "metadata": {
        "id": "lF5iIt6xenmG"
      },
      "outputs": [],
      "source": [
        "df_SSB_MRI = merged_df[(merged_df['DATE_FIXED'] == today) & (merged_df['WORKPLACE'] == 'MR1-SSB')][['WORKPLACE','DATE_FIXED','LIS_DATE','PROC_NAME', 'PATIENT_ID', 'PAT_LAST_NAME', 'PAT_FIRST_NAME','Clinical Indication','APP_CREATE_DATE','ScheduledByName']]\n",
        "df_Main_MRI = merged_df[(merged_df['DATE_FIXED'] == today) & (merged_df['WORKPLACE'] == 'MR2-MB')][['WORKPLACE','DATE_FIXED','LIS_DATE','PROC_NAME', 'PATIENT_ID', 'PAT_LAST_NAME', 'PAT_FIRST_NAME', 'Clinical Indication','APP_CREATE_DATE','ScheduledByName']]\n",
        "df_3T_MRI = merged_df[(merged_df['DATE_FIXED'] == today) & (merged_df['WORKPLACE'] == 'MR3-SSBEXP')][['WORKPLACE','DATE_FIXED','LIS_DATE','PROC_NAME', 'PATIENT_ID', 'PAT_LAST_NAME', 'PAT_FIRST_NAME', 'Clinical Indication','APP_CREATE_DATE','ScheduledByName']]"
      ]
    },
    {
      "cell_type": "code",
      "execution_count": 116,
      "metadata": {
        "id": "Bn7rpz5zAhIt"
      },
      "outputs": [],
      "source": [
        "def unique (df):\n",
        "  df_unique = df.drop_duplicates(subset=['PAT_LAST_NAME', 'PATIENT_ID'])\n",
        "  return df_unique"
      ]
    },
    {
      "cell_type": "code",
      "execution_count": 117,
      "metadata": {
        "id": "9YpWqeI7AmKM"
      },
      "outputs": [],
      "source": [
        "df_SSB_MRI = unique (df_SSB_MRI)\n",
        "df_Main_MRI = unique (df_Main_MRI)\n",
        "df_3T_MRI = unique (df_3T_MRI)"
      ]
    },
    {
      "cell_type": "code",
      "execution_count": 118,
      "metadata": {
        "id": "51IlVLKyB5bQ"
      },
      "outputs": [],
      "source": [
        "def alphabetic (df):\n",
        "  df = df.sort_values(by=['PAT_LAST_NAME'])\n",
        "  return df"
      ]
    },
    {
      "cell_type": "code",
      "execution_count": 119,
      "metadata": {
        "id": "WuNOIqtZB9hG"
      },
      "outputs": [],
      "source": [
        "df_SSB_MRI = alphabetic(df_SSB_MRI)\n",
        "df_Main_MRI = alphabetic (df_Main_MRI)\n",
        "df_3T_MRI = alphabetic (df_3T_MRI)"
      ]
    },
    {
      "cell_type": "code",
      "execution_count": 120,
      "metadata": {
        "id": "M68BcOk1DCuU"
      },
      "outputs": [],
      "source": [
        "df_SSB_MRI.reset_index(drop=True, inplace=True)\n",
        "df_Main_MRI.reset_index(drop=True, inplace=True)\n",
        "df_3T_MRI.reset_index(drop=True, inplace=True)"
      ]
    },
    {
      "cell_type": "markdown",
      "metadata": {
        "id": "AfhiYF7-rfxh"
      },
      "source": [
        "# **4.**\n"
      ]
    },
    {
      "cell_type": "code",
      "execution_count": 121,
      "metadata": {
        "id": "NHqCOh7gPZKG"
      },
      "outputs": [],
      "source": [
        "#Change date in file name #79\n",
        "with pd.ExcelWriter('/content/drive/MyDrive/date/for_office/MRI_05July025.xlsx', engine='xlsxwriter') as writer:\n",
        "\n",
        "\n",
        "    df_SSB_MRI.to_excel(writer, sheet_name='SSB_MRI')\n",
        "\n",
        "    workbook  = writer.book\n",
        "    worksheet1 = writer.sheets['SSB_MRI']\n",
        "\n",
        "    worksheet1.set_column('A:A', 2)\n",
        "    worksheet1.set_column('B:B', 8)\n",
        "    worksheet1.set_column('C:D', 10)\n",
        "    worksheet1.set_column('E:E', 14)\n",
        "    worksheet1.set_column('F:F', 8)\n",
        "    worksheet1.set_column('G:G', 14)\n",
        "    worksheet1.set_column('H:I', 13)\n",
        "    worksheet1.set_column('J:J', 10)\n",
        "    worksheet1.set_column('K:K', 10)\n",
        "\n",
        "    df_Main_MRI.to_excel(writer, sheet_name='Main_MRI')\n",
        "    worksheet2 = writer.sheets['Main_MRI']\n",
        "\n",
        "\n",
        "    worksheet2.set_column('A:A', 2)\n",
        "    worksheet2.set_column('B:B', 8)\n",
        "    worksheet2.set_column('C:D', 10)\n",
        "    worksheet2.set_column('E:E', 14)\n",
        "    worksheet2.set_column('F:F', 8)\n",
        "    worksheet2.set_column('G:G', 14)\n",
        "    worksheet2.set_column('H:I', 13)\n",
        "    worksheet2.set_column('J:J', 10)\n",
        "    worksheet2.set_column('K:K', 10)\n",
        "\n",
        "\n",
        "    df_3T_MRI.to_excel(writer, sheet_name='3T_MRI')\n",
        "    worksheet3 = writer.sheets['3T_MRI']\n",
        "\n",
        "    worksheet3.set_column('A:A', 2)\n",
        "    worksheet3.set_column('B:B', 7)\n",
        "    worksheet3.set_column('C:D', 10)\n",
        "    worksheet3.set_column('E:E', 14)\n",
        "    worksheet3.set_column('F:F', 8)\n",
        "    worksheet3.set_column('G:G', 14)\n",
        "    worksheet3.set_column('H:I', 13)\n",
        "    worksheet3.set_column('J:J', 10)\n",
        "    worksheet3.set_column('K:K', 10)\n",
        "\n",
        "    diff.to_excel(writer, sheet_name='LIS_RIS_discrepancy')\n",
        "    worksheet4 = writer.sheets['LIS_RIS_discrepancy']\n",
        "\n",
        "    worksheet4.set_column('A:A',8)\n",
        "    worksheet4.set_column('B:B',12)\n",
        "    worksheet4.set_column('C:C',12)\n",
        "    worksheet4.set_column('D:D',12)\n",
        "    worksheet4.set_column('E:E',12)\n",
        "    worksheet4.set_column('F:F',12)\n",
        "    worksheet4.set_column('G:G',12)\n",
        "    worksheet4.set_column('H:H',2)\n",
        "    worksheet4.set_column('I:J',8)\n",
        "    worksheet4.set_column('K:L',12)\n",
        "    worksheet4.set_column('M:M',10)\n",
        "    worksheet4.set_column('N:N',15)\n",
        "    worksheet4.set_column('O:O',10)\n",
        "    worksheet4.set_column('P:R',12)\n",
        "\n",
        "\n"
      ]
    },
    {
      "cell_type": "markdown",
      "metadata": {
        "id": "g5ZEvQWxhp7t"
      },
      "source": [
        "## Send a message that worklist has been updated to 1. RD group 2. Stenographer"
      ]
    }
  ],
  "metadata": {
    "colab": {
      "provenance": [],
      "include_colab_link": true
    },
    "kernelspec": {
      "display_name": "Python 3",
      "name": "python3"
    },
    "language_info": {
      "name": "python"
    }
  },
  "nbformat": 4,
  "nbformat_minor": 0
}